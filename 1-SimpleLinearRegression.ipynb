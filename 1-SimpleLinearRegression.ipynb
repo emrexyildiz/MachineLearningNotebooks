{
 "cells": [
  {
   "cell_type": "code",
   "execution_count": 1,
   "id": "15606538-e760-4578-ba32-84c87dc3edd9",
   "metadata": {
    "execution": {
     "iopub.execute_input": "2025-08-05T20:01:55.638204Z",
     "iopub.status.busy": "2025-08-05T20:01:55.636679Z",
     "iopub.status.idle": "2025-08-05T20:01:57.573141Z",
     "shell.execute_reply": "2025-08-05T20:01:57.572252Z",
     "shell.execute_reply.started": "2025-08-05T20:01:55.638153Z"
    }
   },
   "outputs": [],
   "source": [
    "import pandas as pd\n",
    "import matplotlib.pyplot as plt\n",
    "import numpy as np\n",
    "%matplotlib inline\n",
    "import seaborn as sns"
   ]
  },
  {
   "cell_type": "code",
   "execution_count": 2,
   "id": "0f3c7335-7559-442c-8727-378473a69bd8",
   "metadata": {
    "execution": {
     "iopub.execute_input": "2025-08-05T20:02:48.587725Z",
     "iopub.status.busy": "2025-08-05T20:02:48.587380Z",
     "iopub.status.idle": "2025-08-05T20:02:48.612666Z",
     "shell.execute_reply": "2025-08-05T20:02:48.611389Z",
     "shell.execute_reply.started": "2025-08-05T20:02:48.587697Z"
    }
   },
   "outputs": [],
   "source": [
    "df = pd.read_csv(\"1-studyhours.csv\")"
   ]
  },
  {
   "cell_type": "code",
   "execution_count": 3,
   "id": "55d51b9a-975b-44f8-a374-4c21aa84e718",
   "metadata": {
    "execution": {
     "iopub.execute_input": "2025-08-05T20:03:05.419294Z",
     "iopub.status.busy": "2025-08-05T20:03:05.418469Z",
     "iopub.status.idle": "2025-08-05T20:03:05.443342Z",
     "shell.execute_reply": "2025-08-05T20:03:05.442339Z",
     "shell.execute_reply.started": "2025-08-05T20:03:05.419256Z"
    }
   },
   "outputs": [
    {
     "data": {
      "text/html": [
       "<div>\n",
       "<style scoped>\n",
       "    .dataframe tbody tr th:only-of-type {\n",
       "        vertical-align: middle;\n",
       "    }\n",
       "\n",
       "    .dataframe tbody tr th {\n",
       "        vertical-align: top;\n",
       "    }\n",
       "\n",
       "    .dataframe thead th {\n",
       "        text-align: right;\n",
       "    }\n",
       "</style>\n",
       "<table border=\"1\" class=\"dataframe\">\n",
       "  <thead>\n",
       "    <tr style=\"text-align: right;\">\n",
       "      <th></th>\n",
       "      <th>Study Hours</th>\n",
       "      <th>Exam Score</th>\n",
       "    </tr>\n",
       "  </thead>\n",
       "  <tbody>\n",
       "    <tr>\n",
       "      <th>0</th>\n",
       "      <td>3.9</td>\n",
       "      <td>40.0</td>\n",
       "    </tr>\n",
       "    <tr>\n",
       "      <th>1</th>\n",
       "      <td>9.6</td>\n",
       "      <td>57.1</td>\n",
       "    </tr>\n",
       "    <tr>\n",
       "      <th>2</th>\n",
       "      <td>4.5</td>\n",
       "      <td>42.7</td>\n",
       "    </tr>\n",
       "    <tr>\n",
       "      <th>3</th>\n",
       "      <td>11.4</td>\n",
       "      <td>65.1</td>\n",
       "    </tr>\n",
       "    <tr>\n",
       "      <th>4</th>\n",
       "      <td>14.4</td>\n",
       "      <td>78.7</td>\n",
       "    </tr>\n",
       "  </tbody>\n",
       "</table>\n",
       "</div>"
      ],
      "text/plain": [
       "   Study Hours  Exam Score\n",
       "0          3.9        40.0\n",
       "1          9.6        57.1\n",
       "2          4.5        42.7\n",
       "3         11.4        65.1\n",
       "4         14.4        78.7"
      ]
     },
     "execution_count": 3,
     "metadata": {},
     "output_type": "execute_result"
    }
   ],
   "source": [
    "df.head()"
   ]
  },
  {
   "cell_type": "code",
   "execution_count": 4,
   "id": "e99d994b-a474-4892-b9e8-44815f22fcca",
   "metadata": {
    "execution": {
     "iopub.execute_input": "2025-08-05T20:03:26.649290Z",
     "iopub.status.busy": "2025-08-05T20:03:26.648774Z",
     "iopub.status.idle": "2025-08-05T20:03:26.674661Z",
     "shell.execute_reply": "2025-08-05T20:03:26.673586Z",
     "shell.execute_reply.started": "2025-08-05T20:03:26.649263Z"
    }
   },
   "outputs": [
    {
     "name": "stdout",
     "output_type": "stream",
     "text": [
      "<class 'pandas.core.frame.DataFrame'>\n",
      "RangeIndex: 33 entries, 0 to 32\n",
      "Data columns (total 2 columns):\n",
      " #   Column       Non-Null Count  Dtype  \n",
      "---  ------       --------------  -----  \n",
      " 0   Study Hours  33 non-null     float64\n",
      " 1   Exam Score   33 non-null     float64\n",
      "dtypes: float64(2)\n",
      "memory usage: 660.0 bytes\n"
     ]
    }
   ],
   "source": [
    "df.info()"
   ]
  },
  {
   "cell_type": "code",
   "execution_count": 5,
   "id": "9e3ce870-5fd8-473a-a5f7-12fb73275da4",
   "metadata": {
    "execution": {
     "iopub.execute_input": "2025-08-05T20:04:39.038042Z",
     "iopub.status.busy": "2025-08-05T20:04:39.037392Z",
     "iopub.status.idle": "2025-08-05T20:04:39.060818Z",
     "shell.execute_reply": "2025-08-05T20:04:39.059833Z",
     "shell.execute_reply.started": "2025-08-05T20:04:39.038006Z"
    }
   },
   "outputs": [
    {
     "data": {
      "text/html": [
       "<div>\n",
       "<style scoped>\n",
       "    .dataframe tbody tr th:only-of-type {\n",
       "        vertical-align: middle;\n",
       "    }\n",
       "\n",
       "    .dataframe tbody tr th {\n",
       "        vertical-align: top;\n",
       "    }\n",
       "\n",
       "    .dataframe thead th {\n",
       "        text-align: right;\n",
       "    }\n",
       "</style>\n",
       "<table border=\"1\" class=\"dataframe\">\n",
       "  <thead>\n",
       "    <tr style=\"text-align: right;\">\n",
       "      <th></th>\n",
       "      <th>Study Hours</th>\n",
       "      <th>Exam Score</th>\n",
       "    </tr>\n",
       "  </thead>\n",
       "  <tbody>\n",
       "    <tr>\n",
       "      <th>count</th>\n",
       "      <td>33.000000</td>\n",
       "      <td>33.000000</td>\n",
       "    </tr>\n",
       "    <tr>\n",
       "      <th>mean</th>\n",
       "      <td>15.772727</td>\n",
       "      <td>74.612121</td>\n",
       "    </tr>\n",
       "    <tr>\n",
       "      <th>std</th>\n",
       "      <td>7.608723</td>\n",
       "      <td>18.711206</td>\n",
       "    </tr>\n",
       "    <tr>\n",
       "      <th>min</th>\n",
       "      <td>3.000000</td>\n",
       "      <td>40.000000</td>\n",
       "    </tr>\n",
       "    <tr>\n",
       "      <th>25%</th>\n",
       "      <td>9.600000</td>\n",
       "      <td>58.500000</td>\n",
       "    </tr>\n",
       "    <tr>\n",
       "      <th>50%</th>\n",
       "      <td>17.400000</td>\n",
       "      <td>78.800000</td>\n",
       "    </tr>\n",
       "    <tr>\n",
       "      <th>75%</th>\n",
       "      <td>21.300000</td>\n",
       "      <td>90.800000</td>\n",
       "    </tr>\n",
       "    <tr>\n",
       "      <th>max</th>\n",
       "      <td>30.000000</td>\n",
       "      <td>100.000000</td>\n",
       "    </tr>\n",
       "  </tbody>\n",
       "</table>\n",
       "</div>"
      ],
      "text/plain": [
       "       Study Hours  Exam Score\n",
       "count    33.000000   33.000000\n",
       "mean     15.772727   74.612121\n",
       "std       7.608723   18.711206\n",
       "min       3.000000   40.000000\n",
       "25%       9.600000   58.500000\n",
       "50%      17.400000   78.800000\n",
       "75%      21.300000   90.800000\n",
       "max      30.000000  100.000000"
      ]
     },
     "execution_count": 5,
     "metadata": {},
     "output_type": "execute_result"
    }
   ],
   "source": [
    "df.describe()"
   ]
  },
  {
   "cell_type": "code",
   "execution_count": 7,
   "id": "379a80ef-c394-43a7-a17c-8deca13dec15",
   "metadata": {
    "execution": {
     "iopub.execute_input": "2025-08-05T20:08:54.342568Z",
     "iopub.status.busy": "2025-08-05T20:08:54.342243Z",
     "iopub.status.idle": "2025-08-05T20:08:54.474734Z",
     "shell.execute_reply": "2025-08-05T20:08:54.473648Z",
     "shell.execute_reply.started": "2025-08-05T20:08:54.342544Z"
    }
   },
   "outputs": [
    {
     "data": {
      "image/png": "[encoded data removed]",
      "text/plain": [
       "<Figure size 640x480 with 1 Axes>"
      ]
     },
     "metadata": {},
     "output_type": "display_data"
    }
   ],
   "source": [
    "plt.scatter(df['Study Hours'], df['Exam Score'])\n",
    "plt.xlabel('Study Hours')\n",
    "plt.ylabel('Exam Score')\n",
    "\n",
    "plt.show()"
   ]
  },
  {
   "cell_type": "code",
   "execution_count": 8,
   "id": "8e5a0bc1-60c7-4cbc-9eaa-4c41426bdac6",
   "metadata": {
    "execution": {
     "iopub.execute_input": "2025-08-05T20:28:35.509279Z",
     "iopub.status.busy": "2025-08-05T20:28:35.508333Z",
     "iopub.status.idle": "2025-08-05T20:28:35.525715Z",
     "shell.execute_reply": "2025-08-05T20:28:35.524194Z",
     "shell.execute_reply.started": "2025-08-05T20:28:35.509213Z"
    }
   },
   "outputs": [],
   "source": [
    "# independent and dependent features --->> burada onemli bir konu var. X'leri yani girdileri her zaman dataframe olarak ver.\n",
    "\n",
    "#[['Study Hours']] → 📦 Bu bir dataframe, içinde sütun var → ✅\n",
    "#['Study Hours'] → 📃 Bu sadece liste → ❌ model hata verir\n",
    "\n",
    "\n",
    "X=df[['Study Hours']]\n",
    "y=df['Exam Score']"
   ]
  },
  {
   "cell_type": "code",
   "execution_count": 9,
   "id": "2297a58f-1e0d-4e37-ab06-0c15fbe73517",
   "metadata": {
    "execution": {
     "iopub.execute_input": "2025-08-05T20:28:48.629076Z",
     "iopub.status.busy": "2025-08-05T20:28:48.628164Z",
     "iopub.status.idle": "2025-08-05T20:28:48.637273Z",
     "shell.execute_reply": "2025-08-05T20:28:48.636123Z",
     "shell.execute_reply.started": "2025-08-05T20:28:48.629043Z"
    }
   },
   "outputs": [
    {
     "data": {
      "text/plain": [
       "pandas.core.frame.DataFrame"
      ]
     },
     "execution_count": 9,
     "metadata": {},
     "output_type": "execute_result"
    }
   ],
   "source": [
    "type(X)"
   ]
  },
  {
   "cell_type": "code",
   "execution_count": 10,
   "id": "a735d141-b915-4d60-9b9a-f3e4688c5efb",
   "metadata": {
    "execution": {
     "iopub.execute_input": "2025-08-05T20:28:58.181262Z",
     "iopub.status.busy": "2025-08-05T20:28:58.180963Z",
     "iopub.status.idle": "2025-08-05T20:28:58.188472Z",
     "shell.execute_reply": "2025-08-05T20:28:58.187560Z",
     "shell.execute_reply.started": "2025-08-05T20:28:58.181241Z"
    }
   },
   "outputs": [
    {
     "data": {
      "text/plain": [
       "pandas.core.series.Series"
      ]
     },
     "execution_count": 10,
     "metadata": {},
     "output_type": "execute_result"
    }
   ],
   "source": [
    "type(y)"
   ]
  },
  {
   "cell_type": "code",
   "execution_count": 11,
   "id": "bf253c52-e16d-4028-b40f-7c76aa4d3eac",
   "metadata": {
    "execution": {
     "iopub.execute_input": "2025-08-05T20:38:53.838345Z",
     "iopub.status.busy": "2025-08-05T20:38:53.837191Z",
     "iopub.status.idle": "2025-08-05T20:38:53.842998Z",
     "shell.execute_reply": "2025-08-05T20:38:53.841966Z",
     "shell.execute_reply.started": "2025-08-05T20:38:53.838312Z"
    }
   },
   "outputs": [],
   "source": [
    "# test - train  split"
   ]
  },
  {
   "cell_type": "code",
   "execution_count": 12,
   "id": "8fe68694-029f-4988-9295-5a5ab124f2c2",
   "metadata": {
    "execution": {
     "iopub.execute_input": "2025-08-05T20:39:32.109912Z",
     "iopub.status.busy": "2025-08-05T20:39:32.108934Z",
     "iopub.status.idle": "2025-08-05T20:39:32.115003Z",
     "shell.execute_reply": "2025-08-05T20:39:32.113424Z",
     "shell.execute_reply.started": "2025-08-05T20:39:32.109874Z"
    }
   },
   "outputs": [],
   "source": [
    "from sklearn.model_selection import train_test_split"
   ]
  },
  {
   "cell_type": "code",
   "execution_count": 13,
   "id": "05f64bfc-6a30-4a9b-8af9-9c285ebe2be2",
   "metadata": {
    "execution": {
     "iopub.execute_input": "2025-08-05T20:42:12.273021Z",
     "iopub.status.busy": "2025-08-05T20:42:12.272103Z",
     "iopub.status.idle": "2025-08-05T20:42:12.283303Z",
     "shell.execute_reply": "2025-08-05T20:42:12.282433Z",
     "shell.execute_reply.started": "2025-08-05T20:42:12.272995Z"
    }
   },
   "outputs": [],
   "source": [
    "X_train, X_test, y_train, y_test = train_test_split(X,y, test_size=0.2, random_state=15)"
   ]
  },
  {
   "cell_type": "code",
   "execution_count": 15,
   "id": "a0e56f72-ced6-42f7-8d02-8aae424a341c",
   "metadata": {
    "execution": {
     "iopub.execute_input": "2025-08-05T20:43:04.399499Z",
     "iopub.status.busy": "2025-08-05T20:43:04.399085Z",
     "iopub.status.idle": "2025-08-05T20:43:04.412693Z",
     "shell.execute_reply": "2025-08-05T20:43:04.411214Z",
     "shell.execute_reply.started": "2025-08-05T20:43:04.399465Z"
    }
   },
   "outputs": [
    {
     "data": {
      "text/plain": [
       "18     64.9\n",
       "1      57.1\n",
       "2      42.7\n",
       "32     89.6\n",
       "6      77.1\n",
       "3      65.1\n",
       "29     82.4\n",
       "26     64.8\n",
       "9      84.6\n",
       "4      78.7\n",
       "28     79.1\n",
       "10     92.4\n",
       "27     79.5\n",
       "13    100.0\n",
       "17     74.7\n",
       "15     97.0\n",
       "22     76.5\n",
       "31     96.2\n",
       "11     95.9\n",
       "7      90.8\n",
       "0      40.0\n",
       "23     42.2\n",
       "5      78.8\n",
       "12     92.0\n",
       "21     58.5\n",
       "8      99.0\n",
       "Name: Exam Score, dtype: float64"
      ]
     },
     "execution_count": 15,
     "metadata": {},
     "output_type": "execute_result"
    }
   ],
   "source": [
    "y_train  #----> bu bir series unutma, y ciktiyi sonucu elde edecegimiz yer."
   ]
  },
  {
   "cell_type": "code",
   "execution_count": 18,
   "id": "38cb949f-d19c-4572-94c2-58f0eca3b300",
   "metadata": {
    "execution": {
     "iopub.execute_input": "2025-08-05T20:45:48.749809Z",
     "iopub.status.busy": "2025-08-05T20:45:48.748853Z",
     "iopub.status.idle": "2025-08-05T20:45:48.756930Z",
     "shell.execute_reply": "2025-08-05T20:45:48.755831Z",
     "shell.execute_reply.started": "2025-08-05T20:45:48.749769Z"
    }
   },
   "outputs": [
    {
     "data": {
      "text/plain": [
       "pandas.core.series.Series"
      ]
     },
     "execution_count": 18,
     "metadata": {},
     "output_type": "execute_result"
    }
   ],
   "source": [
    "type(y_train)"
   ]
  },
  {
   "cell_type": "code",
   "execution_count": 17,
   "id": "eaeb34f2-1245-454f-94fe-7c6ed2639bf6",
   "metadata": {
    "execution": {
     "iopub.execute_input": "2025-08-05T20:44:18.173825Z",
     "iopub.status.busy": "2025-08-05T20:44:18.173477Z",
     "iopub.status.idle": "2025-08-05T20:44:18.183845Z",
     "shell.execute_reply": "2025-08-05T20:44:18.182460Z",
     "shell.execute_reply.started": "2025-08-05T20:44:18.173798Z"
    }
   },
   "outputs": [
    {
     "data": {
      "text/plain": [
       "25    42.4\n",
       "14    86.6\n",
       "30    91.5\n",
       "16    57.2\n",
       "24    51.2\n",
       "20    49.0\n",
       "19    84.7\n",
       "Name: Exam Score, dtype: float64"
      ]
     },
     "execution_count": 17,
     "metadata": {},
     "output_type": "execute_result"
    }
   ],
   "source": [
    "y_test"
   ]
  },
  {
   "cell_type": "code",
   "execution_count": 19,
   "id": "544fe48a-9768-4d40-a0ba-8be615099ef6",
   "metadata": {
    "execution": {
     "iopub.execute_input": "2025-08-05T20:46:11.386796Z",
     "iopub.status.busy": "2025-08-05T20:46:11.386322Z",
     "iopub.status.idle": "2025-08-05T20:46:11.394560Z",
     "shell.execute_reply": "2025-08-05T20:46:11.393291Z",
     "shell.execute_reply.started": "2025-08-05T20:46:11.386767Z"
    }
   },
   "outputs": [
    {
     "data": {
      "text/plain": [
       "pandas.core.series.Series"
      ]
     },
     "execution_count": 19,
     "metadata": {},
     "output_type": "execute_result"
    }
   ],
   "source": [
    "type(y_test)"
   ]
  },
  {
   "cell_type": "code",
   "execution_count": null,
   "id": "ebd5fb31-d6b9-4a85-8c9d-47301f418f4a",
   "metadata": {},
   "outputs": [],
   "source": []
  }
 ],
 "metadata": {
  "kernelspec": {
   "display_name": "Python 3 (ipykernel)",
   "language": "python",
   "name": "python3"
  },
  "language_info": {
   "codemirror_mode": {
    "name": "ipython",
    "version": 3
   },
   "file_extension": ".py",
   "mimetype": "text/x-python",
   "name": "python",
   "nbconvert_exporter": "python",
   "pygments_lexer": "ipython3",
   "version": "3.12.9"
  }
 },
 "nbformat": 4,
 "nbformat_minor": 5
}
